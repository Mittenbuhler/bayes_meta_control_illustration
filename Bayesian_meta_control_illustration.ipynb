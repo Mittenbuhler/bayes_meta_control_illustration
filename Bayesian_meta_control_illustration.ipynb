{
 "cells": [
  {
   "cell_type": "markdown",
   "metadata": {
    "id": "2PWGgqiBWy7L"
   },
   "source": [
    "# Bayesian Meta Control"
   ]
  },
  {
   "cell_type": "markdown",
   "metadata": {
    "id": "adtfwAmu_SMV"
   },
   "source": [
    "This notebook illustrates how I formalize automatic and controlled processing as well as meta-control in a Bayesian network. There are multiple exercises that either ask you to change some simple values in the code (but not the code itself) or to think about what's happening conceptually.\n",
    "\n",
    "**Notice**: You cannot modify this notebook directly, but you have to save your own copy to work on (\"File\" -> \"Save a copy on Drive\")."
   ]
  },
  {
   "cell_type": "code",
   "execution_count": 5,
   "metadata": {
    "colab": {
     "base_uri": "https://localhost:8080/"
    },
    "collapsed": true,
    "executionInfo": {
     "elapsed": 4835,
     "status": "ok",
     "timestamp": 1741617476792,
     "user": {
      "displayName": "Maximilian Mittenbühler",
      "userId": "07696460298203762582"
     },
     "user_tz": -60
    },
    "id": "gkVwIW50FHEx",
    "outputId": "27b87c69-27a8-4aba-f2d2-ecaab270a0b8"
   },
   "outputs": [],
   "source": [
    "# When running on colab, uncomment the line below to install pgmpy temporarily (this takes a few minutes)\n",
    "#!pip install pgmpy\n",
    "import numpy as np\n",
    "import pandas as pd\n",
    "import matplotlib.pyplot as plt\n",
    "import seaborn as sns\n",
    "from pgmpy.models import BayesianNetwork\n",
    "from pgmpy.factors.discrete import TabularCPD\n",
    "from pgmpy.inference import BeliefPropagation\n",
    "from scipy.stats import entropy"
   ]
  },
  {
   "cell_type": "markdown",
   "metadata": {
    "id": "xMYQCL3NVbdj"
   },
   "source": [
    "## Definitions"
   ]
  },
  {
   "cell_type": "markdown",
   "metadata": {
    "id": "O0uH6CwB60dS"
   },
   "source": [
    "*   **Automatic processing**: Information processing that is solely based on direct associations between observed features of the environment (e.g., a stimulus is a psychological experiment) and latent variables, such as actions. For the case of actions, this is also referred to as *automatic response tendency*.\n",
    "*   **Controlled processing**: Information processing based on the environment *and one's goals*. This requires to consider the consequences of latent variables such as actions and how they relate to the goal.\n",
    "*   **Meta-control**: A higher-order process that determines lower-level information processing. One particular example is to what extent an agent should rely on automatic and/or controlled processing when making a decision. But there are many others, like updating task-relevant information or balancing exploration and exploitation.\n",
    "*   **Proper learning**: Changing the parameters of the model, here of the conditional probability distributions (CPDs)\n",
    "*   **Apparent learning**: Changing higher-order beliefs of the model, resulting in a change of information processing without changing model parameters.\n",
    "\n"
   ]
  },
  {
   "cell_type": "markdown",
   "metadata": {
    "id": "uID7zPw8Arc6"
   },
   "source": [
    "# Chapter 1: Probabilistic formalization"
   ]
  },
  {
   "cell_type": "markdown",
   "metadata": {
    "id": "WPonyelHVh1P"
   },
   "source": [
    "## Automatic processing"
   ]
  },
  {
   "cell_type": "markdown",
   "metadata": {
    "id": "iT03f1juVnEM"
   },
   "source": [
    "Automatic processing could be any learnable function that takes in features of the environment and produces a distribution over, e.g., actions. Here, we use the simplest example, namely a lookup table - or in Bayesian terms the conditional probability distribution specifying the dependency between a categorically distributed environmental feature $s_0$ and an also categorically distributed action $a$, defined as $p(a | s_0)$. This yields a simple generative model $p(a, s_0) = p(a | s_0)p(s_0)$"
   ]
  },
  {
   "cell_type": "markdown",
   "metadata": {
    "id": "Q9zdQAltVvhp"
   },
   "source": [
    "\n",
    "![Screenshot 2025-03-06 at 16.26.47.png](data:image/png;base64,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)"
   ]
  },
  {
   "cell_type": "markdown",
   "metadata": {
    "id": "Yy0c_uYmErrJ"
   },
   "source": [
    "The following code implements this model, were we assume two features, say \"red\" ($s_0 = 0$) and \"green\" ($s_0 = 1$), and two actions, say \"left\" ($a = 0$) and \"right\" ($a = 1$)."
   ]
  },
  {
   "cell_type": "code",
   "execution_count": 6,
   "metadata": {
    "colab": {
     "base_uri": "https://localhost:8080/"
    },
    "executionInfo": {
     "elapsed": 6,
     "status": "ok",
     "timestamp": 1741617476800,
     "user": {
      "displayName": "Maximilian Mittenbühler",
      "userId": "07696460298203762582"
     },
     "user_tz": -60
    },
    "id": "BLrZeXGM6sAr",
    "outputId": "c0776195-f844-477c-a0d4-fffd7107c7db"
   },
   "outputs": [
    {
     "name": "stdout",
     "output_type": "stream",
     "text": [
      "Automatic processing function: \n",
      "+------+-------+-------+\n",
      "| s0   | s0(0) | s0(1) |\n",
      "+------+-------+-------+\n",
      "| a(0) | 0.5   | 0.5   |\n",
      "+------+-------+-------+\n",
      "| a(1) | 0.5   | 0.5   |\n",
      "+------+-------+-------+\n"
     ]
    }
   ],
   "source": [
    "# Define dependencies\n",
    "auto_model = BayesianNetwork([\n",
    "    ('s0', 'a'),\n",
    "])\n",
    "\n",
    "# Define priors and CPDs\n",
    "cpd_s0 = TabularCPD('s0', 2, [[.5], [.5]])  # defines p(s_0)\n",
    "cpd_a = TabularCPD('a', 2, evidence=['s0'], evidence_card=[2],\n",
    "                   values=[\n",
    "                       [.5, .5],\n",
    "                       [.5, .5]\n",
    "                   ])  # defines p(a | s_0)\n",
    "print(f'Automatic processing function: \\n{cpd_a}')\n",
    "\n",
    "# Add CPDs to the model\n",
    "auto_model.add_cpds(cpd_s0, cpd_a)"
   ]
  },
  {
   "cell_type": "markdown",
   "metadata": {
    "id": "JpLBkLJ6HYve"
   },
   "source": [
    "We can now perform inference in this very simple model"
   ]
  },
  {
   "cell_type": "code",
   "execution_count": 7,
   "metadata": {
    "colab": {
     "base_uri": "https://localhost:8080/"
    },
    "executionInfo": {
     "elapsed": 3,
     "status": "ok",
     "timestamp": 1741617476811,
     "user": {
      "displayName": "Maximilian Mittenbühler",
      "userId": "07696460298203762582"
     },
     "user_tz": -60
    },
    "id": "ZY6wPiy7HiqR",
    "outputId": "54f90966-7b50-40b3-b8dc-d479f91eaeb9"
   },
   "outputs": [
    {
     "name": "stdout",
     "output_type": "stream",
     "text": [
      "Automatic response tendency after observing s0 = 0 (green): \n",
      "+------+----------+\n",
      "| a    |   phi(a) |\n",
      "+======+==========+\n",
      "| a(0) |   0.5000 |\n",
      "+------+----------+\n",
      "| a(1) |   0.5000 |\n",
      "+------+----------+\n"
     ]
    }
   ],
   "source": [
    "auto_inference = BeliefPropagation(auto_model)\n",
    "posterior_a = auto_inference.query(['a'], evidence={'s0': 0})\n",
    "print(f'Automatic response tendency after observing s0 = 0 (green): \\n{posterior_a}')"
   ]
  },
  {
   "cell_type": "markdown",
   "metadata": {
    "id": "I3nuIm5PIBMh"
   },
   "source": [
    "### Exercise 1\n",
    "Right now, there is no automatic processing because the dependency/function between $s_0$ and $a$ is completely uninformative. Change this, such that the action \"left\" is more likely when observing \"red\" and the action \"right\" is more likely when observing \"green\"."
   ]
  },
  {
   "cell_type": "markdown",
   "metadata": {
    "id": "MoGRPgZkIglp"
   },
   "source": [
    "## Controlled processing\n",
    "\n",
    "Controlled processing assumes (1) that we have an understanding of how an action leads to a consequence and (2) that we know which consequence we prefer. In other words, we have some function that predicts a consequence $s_1$ when given an action $a$ that is performed in an environmental state $s_0$. Again, we can describe this as a simple generative model, $p(a, s_0, s_1) = p(s_1 | a, s_0)p(a)p(s_0)$, with lookup tables as CPDs. Note, however, that in principle the function can be arbitrarily complex."
   ]
  },
  {
   "cell_type": "markdown",
   "metadata": {
    "id": "gVhLto_5LNGj"
   },
   "source": [
    "![Screenshot 2025-03-06 at 16.57.37.png](data:image/png;base64,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)"
   ]
  },
  {
   "cell_type": "markdown",
   "metadata": {
    "id": "tn1mCQMKLXE0"
   },
   "source": [
    "We'll specify the values of $a$ and $s_0$ as before and assume that there are two consequences, \"correct\" ($s_1 = 0$) and \"incorrect\" ($s_1 = 1$). The following code implements this model analogously and performs action inference"
   ]
  },
  {
   "cell_type": "code",
   "execution_count": 8,
   "metadata": {
    "colab": {
     "base_uri": "https://localhost:8080/"
    },
    "executionInfo": {
     "elapsed": 25,
     "status": "ok",
     "timestamp": 1741627042226,
     "user": {
      "displayName": "Maximilian Mittenbühler",
      "userId": "07696460298203762582"
     },
     "user_tz": -60
    },
    "id": "hhGoqYCuL1P_",
    "outputId": "9e6e1f46-3317-4bb0-c8bf-3b28ac252076"
   },
   "outputs": [
    {
     "name": "stdout",
     "output_type": "stream",
     "text": [
      "\"Consequence prediction engine\": \n",
      "+-------+-------+-------+-------+-------+\n",
      "| a     | a(0)  | a(0)  | a(1)  | a(1)  |\n",
      "+-------+-------+-------+-------+-------+\n",
      "| s0    | s0(0) | s0(1) | s0(0) | s0(1) |\n",
      "+-------+-------+-------+-------+-------+\n",
      "| s1(0) | 0.95  | 0.05  | 0.05  | 0.95  |\n",
      "+-------+-------+-------+-------+-------+\n",
      "| s1(1) | 0.05  | 0.95  | 0.95  | 0.05  |\n",
      "+-------+-------+-------+-------+-------+\n"
     ]
    }
   ],
   "source": [
    "# Define dependencies\n",
    "contr_model = BayesianNetwork([\n",
    "    ('s0', 's1'),\n",
    "    ('a', 's1'),\n",
    "])\n",
    "\n",
    "# Define priors and CPDs\n",
    "cpd_s0 = TabularCPD('s0', 2, [[.5], [.5]])  # defines p(s_0)\n",
    "cpd_a = TabularCPD('a', 2, [[.5], [.5]])  # defines p(a)\n",
    "cpd_s1 = TabularCPD('s1', 2, evidence=['a', 's0'], evidence_card=[2, 2],\n",
    "                    values=[\n",
    "                        [.95, .05, .05, .95],\n",
    "                        [.05, .95, .95, .05]\n",
    "                    ])  # defines p(s_1 | a, s_0)\n",
    "print(f'\"Consequence prediction engine\": \\n{cpd_s1}')\n",
    "\n",
    "# Add CPDs to the model\n",
    "contr_model.add_cpds(cpd_s0, cpd_a, cpd_s1)"
   ]
  },
  {
   "cell_type": "code",
   "execution_count": 9,
   "metadata": {
    "colab": {
     "base_uri": "https://localhost:8080/"
    },
    "executionInfo": {
     "elapsed": 3,
     "status": "ok",
     "timestamp": 1741627044432,
     "user": {
      "displayName": "Maximilian Mittenbühler",
      "userId": "07696460298203762582"
     },
     "user_tz": -60
    },
    "id": "ySTrJj4-L-mW",
    "outputId": "26598982-934b-47d1-9d17-367ffde34583"
   },
   "outputs": [
    {
     "name": "stdout",
     "output_type": "stream",
     "text": [
      "Goal directed action selection, assuming s0 = 0 (green) and goal s1 = 0 (correct): \n",
      "+------+----------+\n",
      "| a    |   phi(a) |\n",
      "+======+==========+\n",
      "| a(0) |   0.9500 |\n",
      "+------+----------+\n",
      "| a(1) |   0.0500 |\n",
      "+------+----------+\n"
     ]
    }
   ],
   "source": [
    "contr_inference = BeliefPropagation(contr_model)\n",
    "posterior_a = contr_inference.query(['a'], evidence={'s0': 0, 's1': 0})\n",
    "print(f'Goal directed action selection, assuming s0 = 0 (green) and goal s1 = 0 (correct): \\n{posterior_a}')"
   ]
  },
  {
   "cell_type": "markdown",
   "metadata": {
    "id": "Dg9PZbREOMR8"
   },
   "source": [
    "### Exercise 2\n",
    "Our generative model can't predict the consequences of actions well. Change this, assuming that in our world it is only correct to respond \"left\" to \"red\" and \"right\" to \"green\". Your agent should be 95% sure about which action to is correct."
   ]
  },
  {
   "cell_type": "markdown",
   "metadata": {
    "id": "P24yPFzWTLNN"
   },
   "source": [
    "### Exercise 3\n",
    "\n",
    "Conceptually, what is the difference between the formalization of automatic and controlled behavior? Think about what is being predicted and what is being inferred. Based on this, which type of processing allows for more flexible behavior?"
   ]
  },
  {
   "cell_type": "markdown",
   "metadata": {
    "id": "htzZAI5cPnBU"
   },
   "source": [
    "## Combining automatic and controlled processing\n",
    "As should be obvious from the model graphs above, automatic and controlled processing can easily be combined, where our generative model is now defined as $p(a, s_0, s_1) = p(s_1 | a, s_0)p(a | s_0)p(s_0)$"
   ]
  },
  {
   "cell_type": "markdown",
   "metadata": {
    "id": "9rvEQAk_QW5Z"
   },
   "source": [
    "![Screenshot 2025-03-06 at 17.20.09.png](data:image/png;base64,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)"
   ]
  },
  {
   "cell_type": "markdown",
   "metadata": {
    "id": "kBiI5c3jQg3o"
   },
   "source": [
    "The following code implements this."
   ]
  },
  {
   "cell_type": "code",
   "execution_count": 10,
   "metadata": {
    "colab": {
     "base_uri": "https://localhost:8080/"
    },
    "executionInfo": {
     "elapsed": 14,
     "status": "ok",
     "timestamp": 1741627241443,
     "user": {
      "displayName": "Maximilian Mittenbühler",
      "userId": "07696460298203762582"
     },
     "user_tz": -60
    },
    "id": "-zmwEPzCQgPT",
    "outputId": "3aa94e9d-18b2-44dc-b217-a016f8e92f4d"
   },
   "outputs": [
    {
     "name": "stdout",
     "output_type": "stream",
     "text": [
      "\"Automatic processing function\": \n",
      "+------+-------+-------+\n",
      "| s0   | s0(0) | s0(1) |\n",
      "+------+-------+-------+\n",
      "| a(0) | 0.7   | 0.3   |\n",
      "+------+-------+-------+\n",
      "| a(1) | 0.3   | 0.7   |\n",
      "+------+-------+-------+\n",
      "\"Consequence prediction engine\": \n",
      "+-------+-------+-------+-------+-------+\n",
      "| a     | a(0)  | a(0)  | a(1)  | a(1)  |\n",
      "+-------+-------+-------+-------+-------+\n",
      "| s0    | s0(0) | s0(1) | s0(0) | s0(1) |\n",
      "+-------+-------+-------+-------+-------+\n",
      "| s1(0) | 0.95  | 0.05  | 0.05  | 0.95  |\n",
      "+-------+-------+-------+-------+-------+\n",
      "| s1(1) | 0.05  | 0.95  | 0.95  | 0.05  |\n",
      "+-------+-------+-------+-------+-------+\n"
     ]
    }
   ],
   "source": [
    "# Define dependencies\n",
    "comb_model = BayesianNetwork([\n",
    "    ('s0', 'a'),\n",
    "    ('s0', 's1'),\n",
    "    ('a', 's1'),\n",
    "])\n",
    "\n",
    "# Define priors and CPDs\n",
    "cpd_s0 = TabularCPD('s0', 2, [[.5], [.5]])  # defines p(s_0)\n",
    "cpd_a = TabularCPD('a', 2, evidence=['s0'], evidence_card=[2],\n",
    "                   values=[\n",
    "                        [.7, .3],\n",
    "                        [.3, .7]\n",
    "                    ])  # defines p(a | s_0)\n",
    "print(f'\"Automatic processing function\": \\n{cpd_a}')\n",
    "cpd_s1 = TabularCPD('s1', 2, evidence=['a', 's0'], evidence_card=[2, 2],\n",
    "                    values=[\n",
    "                        [.95, .05, .05, .95],\n",
    "                        [.05, .95, .95, .05]\n",
    "                    ])  # defines p(s_1 | a, s_0)\n",
    "print(f'\"Consequence prediction engine\": \\n{cpd_s1}')\n",
    "\n",
    "# Add CPDs to the model\n",
    "comb_model.add_cpds(cpd_s0, cpd_a, cpd_s1)"
   ]
  },
  {
   "cell_type": "code",
   "execution_count": 11,
   "metadata": {
    "colab": {
     "base_uri": "https://localhost:8080/"
    },
    "executionInfo": {
     "elapsed": 9,
     "status": "ok",
     "timestamp": 1741627250689,
     "user": {
      "displayName": "Maximilian Mittenbühler",
      "userId": "07696460298203762582"
     },
     "user_tz": -60
    },
    "id": "sZjvgx31RKG5",
    "outputId": "df826c5b-4551-4e14-a64b-c2303a327f36"
   },
   "outputs": [
    {
     "name": "stdout",
     "output_type": "stream",
     "text": [
      "Action selection based on both controlled and automatic processing, assuming s0 = 0 (green) and goal s1 = 0 (correct): \n",
      "+------+----------+\n",
      "| a    |   phi(a) |\n",
      "+======+==========+\n",
      "| a(0) |   0.9779 |\n",
      "+------+----------+\n",
      "| a(1) |   0.0221 |\n",
      "+------+----------+\n"
     ]
    }
   ],
   "source": [
    "comb_inference = BeliefPropagation(comb_model)\n",
    "posterior_a = comb_inference.query(['a'], evidence={'s0': 0, 's1': 0})\n",
    "print(f'Action selection based on both controlled and automatic processing, assuming s0 = 0 (green) and goal s1 = 0 (correct): \\n{posterior_a}')"
   ]
  },
  {
   "cell_type": "markdown",
   "metadata": {
    "id": "M8f-S-IpRP9i"
   },
   "source": [
    "### Exercise 4\n",
    "Does this particular combination of automatic and controlled processing lead to more accurate behavior compared to each type of processing alone? Is it possible to change the model such that the combination leads to *less* accurate behavior? What does this mean in practice?"
   ]
  },
  {
   "cell_type": "markdown",
   "metadata": {
    "id": "9OqI1cAjU4oa"
   },
   "source": [
    "### Exercise 5\n",
    "Based on your knowledge of Bayesian inference, how do you think the information from automatic processing and goal-directed processing is integrated? You can also play around with the values to get a feeling for it."
   ]
  },
  {
   "cell_type": "markdown",
   "metadata": {
    "id": "TZ_IEBTmS_nf"
   },
   "source": [
    "## Meta-control"
   ]
  },
  {
   "cell_type": "markdown",
   "metadata": {
    "id": "bepZDHUAVXav"
   },
   "source": [
    "One function of meta-control is to balance automatic and controlled processing. For example, the automatic response tendency defined above might be useful or valid in some situations but not in others. Meta-control should have a way of monitoring this and adjusting the reliance on the automatic response tendency accordingly.\n",
    "\n",
    "To formalize this, we introduce an abstract latent variable, which we call *context* $c_t$ that informs the automatic process, i.e., instead of defining it as $p(a | s_0)$ we now define it as $p(a | s_0, c_t)$. The idea is that we can have different contexts with different functions from $s_0$ to $a$ and switch between them by changing our belief over contexts. To illustrate this, we assume two contexts, one with a strong response tendency ($c_t = 0$) and one with no informative response tendency ($c_t = 1$). Thus, by switching between contexts, we can virtually turn the response tendency on or off."
   ]
  },
  {
   "cell_type": "markdown",
   "metadata": {
    "id": "997wuvpdZ5Qa"
   },
   "source": [
    "![Screenshot 2025-03-06 at 18.01.17.png](data:image/png;base64,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)"
   ]
  },
  {
   "cell_type": "code",
   "execution_count": 12,
   "metadata": {
    "colab": {
     "base_uri": "https://localhost:8080/"
    },
    "executionInfo": {
     "elapsed": 3,
     "status": "ok",
     "timestamp": 1741617476896,
     "user": {
      "displayName": "Maximilian Mittenbühler",
      "userId": "07696460298203762582"
     },
     "user_tz": -60
    },
    "id": "sNLEXg2xVWK-",
    "outputId": "07d8fa6c-47b2-4078-9253-b637f148096b"
   },
   "outputs": [
    {
     "name": "stdout",
     "output_type": "stream",
     "text": [
      "\"Automatic processing function\": \n",
      "+------+-------+-------+-------+-------+\n",
      "| c    | c(0)  | c(0)  | c(1)  | c(1)  |\n",
      "+------+-------+-------+-------+-------+\n",
      "| s0   | s0(0) | s0(1) | s0(0) | s0(1) |\n",
      "+------+-------+-------+-------+-------+\n",
      "| a(0) | 0.99  | 0.01  | 0.5   | 0.5   |\n",
      "+------+-------+-------+-------+-------+\n",
      "| a(1) | 0.01  | 0.99  | 0.5   | 0.5   |\n",
      "+------+-------+-------+-------+-------+\n",
      "\"Consequence prediction engine\": \n",
      "+-------+-------+-------+-------+-------+\n",
      "| a     | a(0)  | a(0)  | a(1)  | a(1)  |\n",
      "+-------+-------+-------+-------+-------+\n",
      "| s0    | s0(0) | s0(1) | s0(0) | s0(1) |\n",
      "+-------+-------+-------+-------+-------+\n",
      "| s1(0) | 0.95  | 0.05  | 0.05  | 0.95  |\n",
      "+-------+-------+-------+-------+-------+\n",
      "| s1(1) | 0.05  | 0.95  | 0.95  | 0.05  |\n",
      "+-------+-------+-------+-------+-------+\n"
     ]
    }
   ],
   "source": [
    "# Define dependencies\n",
    "meta_model = BayesianNetwork([\n",
    "    ('s0', 'a'),\n",
    "    ('s0', 's1'),\n",
    "    ('a', 's1'),\n",
    "    ('c', 'a'),\n",
    "])\n",
    "\n",
    "# Define priors and CPDs\n",
    "cpd_s0 = TabularCPD('s0', 2, [[.5], [.5]])  # defines p(s_0)\n",
    "cpd_c = TabularCPD('c', 2, [[.5], [.5]])  # defines p(c)\n",
    "cpd_a = TabularCPD('a', 2, evidence=['c', 's0'], evidence_card=[2, 2],\n",
    "                   values=[\n",
    "                        [.99, .01, .5, .5],\n",
    "                        [.01, .99, .5, .5]\n",
    "                    ])  # defines p(a | c, s_0)\n",
    "print(f'\"Automatic processing function\": \\n{cpd_a}')\n",
    "cpd_s1 = TabularCPD('s1', 2, evidence=['a', 's0'], evidence_card=[2, 2],\n",
    "                    values=[\n",
    "                        [.95, .05, .05, .95],\n",
    "                        [.05, .95, .95, .05]\n",
    "                    ])  # defines p(s_1 | a, s_0)\n",
    "print(f'\"Consequence prediction engine\": \\n{cpd_s1}')\n",
    "\n",
    "# Add CPDs to the model\n",
    "meta_model.add_cpds(cpd_s0, cpd_c, cpd_a, cpd_s1)"
   ]
  },
  {
   "cell_type": "code",
   "execution_count": 13,
   "metadata": {
    "colab": {
     "base_uri": "https://localhost:8080/"
    },
    "executionInfo": {
     "elapsed": 4,
     "status": "ok",
     "timestamp": 1741617476899,
     "user": {
      "displayName": "Maximilian Mittenbühler",
      "userId": "07696460298203762582"
     },
     "user_tz": -60
    },
    "id": "G_4MX1WyaRIf",
    "outputId": "c1ee30d3-2ae4-4b47-90d1-6090da08e466"
   },
   "outputs": [
    {
     "name": "stdout",
     "output_type": "stream",
     "text": [
      "Posterior belief over actions, assuming s0 = 0 (green) and goal s1 = 0 (correct): \n",
      "+------+----------+\n",
      "| a    |   phi(a) |\n",
      "+======+==========+\n",
      "| a(0) |   0.9823 |\n",
      "+------+----------+\n",
      "| a(1) |   0.0177 |\n",
      "+------+----------+\n",
      "Posterior belief over contexts, assuming s0 = 0 (green) and goal s1 = 0 (correct): \n",
      "+------+----------+\n",
      "| c    |   phi(c) |\n",
      "+======+==========+\n",
      "| c(0) |   0.6530 |\n",
      "+------+----------+\n",
      "| c(1) |   0.3470 |\n",
      "+------+----------+\n"
     ]
    }
   ],
   "source": [
    "meta_inference = BeliefPropagation(meta_model)\n",
    "posterior_a = meta_inference.query(['a'], evidence={'s0': 0, 's1': 0})\n",
    "posterior_c = meta_inference.query(['c'], evidence={'s0': 0, 's1': 0})\n",
    "print(f'Posterior belief over actions, assuming s0 = 0 (green) and goal s1 = 0 (correct): \\n{posterior_a}')\n",
    "print(f'Posterior belief over contexts, assuming s0 = 0 (green) and goal s1 = 0 (correct): \\n{posterior_c}')"
   ]
  },
  {
   "cell_type": "markdown",
   "metadata": {
    "id": "u4TlN3ShbRzp"
   },
   "source": [
    "When setting up the model this way, crucially, we also automatically gain information about which context we are currently in. This information stems from the level of conflict/congruency between the automatic and controlled process, i.e., the agreement between our response tendency and our goal."
   ]
  },
  {
   "cell_type": "markdown",
   "metadata": {
    "id": "9mXvuVveblUo"
   },
   "source": [
    "### Exercise 6\n",
    "In the situation specified above, we seem to be in a context in which the response tendency is \"valid\", right? What effect does this have on the performance of the model? Create a situation in which the response tendency is \"invalid\" and observe how our posterior belief over contexts changes."
   ]
  },
  {
   "cell_type": "markdown",
   "metadata": {
    "id": "eK3tGzFicdVG"
   },
   "source": [
    "### Exercise 7\n",
    "Try to manually up- and down-regulate the effective strength of the automatic process in two ways:\n",
    "1.   By changing $p(a | c_t, s_0)$\n",
    "2.   Without changing $p(a | c_t, s_0)$\n",
    "\n",
    "Do you understand the difference between *proper* and *apparent* learning of the automatic response tendency?"
   ]
  },
  {
   "cell_type": "markdown",
   "metadata": {
    "id": "9_AZN9JOeks2"
   },
   "source": [
    "# Chapter 2: Cost-benefit analysis"
   ]
  },
  {
   "cell_type": "markdown",
   "metadata": {
    "id": "_JkfoNiWBLey"
   },
   "source": [
    "In cognitive science it is commonly assumed that automatic processing is \"easy\" for the cognitive system, while controlled processing is \"hard\". This is the reason why we need meta-control to balance the two in the first place.\n",
    "\n",
    "This is often explained on the basis that controlled processing taps into a cognitive resource that is limited (a good example for this is attention), whereas automatic processing does not. Meta-control then should implement a trade-off between the additional costs of controlled processing against the additional benefits.\n",
    "\n",
    "There are two issue with this that I want to address\n",
    "\n",
    "1.   Why is automatic processing easy, but controlled processing is hard? What does \"hard\" and \"easy\" even mean? In fact, things that are classically interpreted as automatic can be computationally complex, such as object recognition.\n",
    "2.   How can the costs and benefits be traded-off efficiently? In many computational proposals (maximizing utility etc.), the computational complexity arguably surpasses the complexity of controlled processing - which we wanted to avoid because of its complexity in the first place.\n",
    "\n"
   ]
  },
  {
   "cell_type": "markdown",
   "metadata": {
    "id": "ryjn9geaEaLS"
   },
   "source": [
    "## The informational cost of controlled processing (over automatic processing)"
   ]
  },
  {
   "cell_type": "markdown",
   "metadata": {
    "id": "o2j4GvnlESOK"
   },
   "source": [
    "A way to define the difficulty of decision making is based on how much information is required to change one's beliefs. In information theoretical terms, this is defined as the KL-divergence between the prior and posterior belief. Below is an example:"
   ]
  },
  {
   "cell_type": "code",
   "execution_count": 14,
   "metadata": {
    "colab": {
     "base_uri": "https://localhost:8080/"
    },
    "executionInfo": {
     "elapsed": 8,
     "status": "ok",
     "timestamp": 1741617476905,
     "user": {
      "displayName": "Maximilian Mittenbühler",
      "userId": "07696460298203762582"
     },
     "user_tz": -60
    },
    "id": "8p-aw6HGBK6T",
    "outputId": "c2b4bc61-c0ac-4c6f-9060-8e7fc0c28e0f"
   },
   "outputs": [
    {
     "name": "stdout",
     "output_type": "stream",
     "text": [
      "Cost: 0.368 nats\n"
     ]
    }
   ],
   "source": [
    "prior = np.array([.5, .5])\n",
    "posterior = np.array([.9, .1])  # feel free to play around with these values and see what the cost is\n",
    "cost = entropy(posterior, prior)\n",
    "print(f'Cost: {cost:.3f} nats')"
   ]
  },
  {
   "cell_type": "markdown",
   "metadata": {
    "id": "rtnSwQ0UHTcP"
   },
   "source": [
    "Now let's look at the cost of the decision making process in the example above. Let's start with the model that combines automatic and controlled processing.\n",
    "\n",
    "The way I think about it is that the process happens in two stages. Firstly we perceive the environment, i.e., we condition our model on $s_0$. This will give us our prior belief. Secondly, we include goal-directed information, i.e., condition on $s_1$. This will give us our goal-directed posterior.\n",
    "\n"
   ]
  },
  {
   "cell_type": "code",
   "execution_count": 15,
   "metadata": {
    "colab": {
     "base_uri": "https://localhost:8080/"
    },
    "executionInfo": {
     "elapsed": 47,
     "status": "ok",
     "timestamp": 1741617476956,
     "user": {
      "displayName": "Maximilian Mittenbühler",
      "userId": "07696460298203762582"
     },
     "user_tz": -60
    },
    "id": "7F5Rz8adKFE0",
    "outputId": "8e9212d3-923c-44d3-9dfd-9efc55095ac3"
   },
   "outputs": [
    {
     "name": "stdout",
     "output_type": "stream",
     "text": [
      "Prior belief: [0.7 0.3]\n",
      "Posterior belief: [0.97794118 0.02205882]\n",
      "Cost: 0.269 nats\n"
     ]
    }
   ],
   "source": [
    "# Define dependencies (just repeating code from above here)\n",
    "comb_model = BayesianNetwork([\n",
    "    ('s0', 'a'),\n",
    "    ('s0', 's1'),\n",
    "    ('a', 's1'),\n",
    "])\n",
    "\n",
    "# Define priors and CPDs\n",
    "cpd_s0 = TabularCPD('s0', 2, [[.5], [.5]])  # defines p(s_0)\n",
    "cpd_a = TabularCPD('a', 2, evidence=['s0'], evidence_card=[2],\n",
    "                   values=[\n",
    "                        [.7, .3],\n",
    "                        [.3, .7]\n",
    "                    ])  # defines p(a | s_0)\n",
    "#print(f'\"Automatic processing function\": \\n{cpd_a}')\n",
    "cpd_s1 = TabularCPD('s1', 2, evidence=['a', 's0'], evidence_card=[2, 2],\n",
    "                    values=[\n",
    "                        [.95, .05, .05, .95],\n",
    "                        [.05, .95, .95, .05]\n",
    "                    ])  # defines p(s_1 | a, s_0)\n",
    "#print(f'\"Consequence prediction engine\": \\n{cpd_s1}')\n",
    "\n",
    "# Add CPDs to the model\n",
    "comb_model.add_cpds(cpd_s0, cpd_a, cpd_s1)\n",
    "\n",
    "# Perform inference\n",
    "comb_inference = BeliefPropagation(comb_model)\n",
    "prior = comb_inference.query(['a'], evidence={'s0': 0}).values\n",
    "print(f'Prior belief: {prior}')\n",
    "posterior = comb_inference.query(['a'], evidence={'s0': 0, 's1': 0}).values\n",
    "print(f'Posterior belief: {posterior}')\n",
    "cost = entropy(posterior, prior)\n",
    "print(f'Cost: {cost:.3f} nats')"
   ]
  },
  {
   "cell_type": "markdown",
   "metadata": {
    "id": "AfgcPKzKKsjg"
   },
   "source": [
    "As you might have already understood, this is the additional cost that controlled processing incurrs over automatic processing. My argument is that the cost of automatic processing can be virtually neglected because it is a simple function, e.g., a forward pass through a black-box neural network or in our case looking up a value in a table. For controlled processing, this is not the case because we have learned the predictive function in the other direction, so to speak, and therefore have to invert it. In our case this is admitteldy also trivial but in the general case it isn't."
   ]
  },
  {
   "cell_type": "markdown",
   "metadata": {
    "id": "2SOqwuZVMmR7"
   },
   "source": [
    "### Exercise 8\n",
    "\n",
    "By changing $p(a | s_0)$, investigate the interaction between automatic and controlled processing. What conclusion can you draw about the interaction of the two types of processing?"
   ]
  },
  {
   "cell_type": "markdown",
   "metadata": {
    "id": "KABXB_C3NnTo"
   },
   "source": [
    "## The benefit of controlled processing (over automatic processing)"
   ]
  },
  {
   "cell_type": "markdown",
   "metadata": {
    "id": "tyaGXEaaN2FU"
   },
   "source": [
    "The benefit of controlled processing should describe how likely we are to reach our goal. Again, we can define this in information-theoretic terms as the expected likelihood of observing the goal under our posterior belief, i.e., the negative cross entropy between posterior and likelihood. Higher (less negative) values are more beneficial."
   ]
  },
  {
   "cell_type": "code",
   "execution_count": 16,
   "metadata": {
    "colab": {
     "base_uri": "https://localhost:8080/"
    },
    "executionInfo": {
     "elapsed": 8,
     "status": "ok",
     "timestamp": 1741617476965,
     "user": {
      "displayName": "Maximilian Mittenbühler",
      "userId": "07696460298203762582"
     },
     "user_tz": -60
    },
    "id": "BM_Tk45ZPht8",
    "outputId": "a2cdc35b-d224-4e81-f448-c6330984f37a"
   },
   "outputs": [
    {
     "name": "stdout",
     "output_type": "stream",
     "text": [
      "Benefit: -0.346 nats\n"
     ]
    }
   ],
   "source": [
    "likelihood = np.array([0.95, 0.05])  # p(o1 = 0 | a)\n",
    "posterior = np.array([.9, .1])  # p(a | o1 = 0)  again, please play around with these values\n",
    "benefit = -1 * (entropy(posterior) + entropy(posterior, likelihood))\n",
    "print(f'Benefit: {benefit:.3f} nats')"
   ]
  },
  {
   "cell_type": "markdown",
   "metadata": {
    "id": "lV9N-4ZXQ8C3"
   },
   "source": [
    "## Bayesian inference and the implicit cost-benefit analysis"
   ]
  },
  {
   "cell_type": "markdown",
   "metadata": {
    "id": "2eBnUSiIRnIq"
   },
   "source": [
    "Now that we have defined cost and benefits with a common unit (nats), it is straight-forward to balance them, namely by maximizing [benefits - costs] or equivalently minimizing [costs - benefits]."
   ]
  },
  {
   "cell_type": "markdown",
   "metadata": {
    "id": "xAbvVQMWS4C5"
   },
   "source": [
    "### Exercise 9\n",
    "\n",
    "Below, the prior belief is already defined. Your task is to try out different values for possible posterior beliefs (just set them by hand). Try to find values that optimize (i.e., minimize!) the trade-off between costs and benefits"
   ]
  },
  {
   "cell_type": "code",
   "execution_count": 17,
   "metadata": {
    "colab": {
     "base_uri": "https://localhost:8080/"
    },
    "executionInfo": {
     "elapsed": 2,
     "status": "ok",
     "timestamp": 1741617476967,
     "user": {
      "displayName": "Maximilian Mittenbühler",
      "userId": "07696460298203762582"
     },
     "user_tz": -60
    },
    "id": "A4xHLhkmTDjI",
    "outputId": "d21dd0f4-1081-4db4-9654-b7298dca8aaa"
   },
   "outputs": [
    {
     "name": "stdout",
     "output_type": "stream",
     "text": [
      "Prior belief: [0.7 0.3]\n",
      "Posterior belief: [0.9 0.1]\n",
      "Cost: 0.116 nats\n",
      "Benefit: -0.346 nats\n",
      "Trade-off: 0.462 nats\n"
     ]
    }
   ],
   "source": [
    "prior = comb_inference.query(['a'], evidence={'s0': 0}).values\n",
    "print(f'Prior belief: {prior}')\n",
    "posterior = np.array([.9, .1])  # change these values\n",
    "print(f'Posterior belief: {posterior}')\n",
    "cost = entropy(posterior, prior)\n",
    "print(f'Cost: {cost:.3f} nats')\n",
    "benefit = -1 * (entropy(posterior) + entropy(posterior, likelihood))\n",
    "print(f'Benefit: {benefit:.3f} nats')\n",
    "print(f'Trade-off: {cost - benefit:.3f} nats')"
   ]
  },
  {
   "cell_type": "markdown",
   "metadata": {
    "id": "OmgcYrYCUB4T"
   },
   "source": [
    "Now let's compare this to the true posterior defined by Bayes' Rule. Could you beat it?"
   ]
  },
  {
   "cell_type": "code",
   "execution_count": 18,
   "metadata": {
    "colab": {
     "base_uri": "https://localhost:8080/"
    },
    "executionInfo": {
     "elapsed": 12,
     "status": "ok",
     "timestamp": 1741617477010,
     "user": {
      "displayName": "Maximilian Mittenbühler",
      "userId": "07696460298203762582"
     },
     "user_tz": -60
    },
    "id": "rBNsKmazVAgM",
    "outputId": "c5638ed4-c1da-4ca1-cdfc-4a8512803cb2"
   },
   "outputs": [
    {
     "name": "stdout",
     "output_type": "stream",
     "text": [
      "Prior belief: [0.7 0.3]\n",
      "Posterior belief: [0.97794118 0.02205882]\n",
      "Cost: 0.269 nats\n",
      "Benefit: -0.116 nats\n",
      "Trade-off: 0.386 nats\n"
     ]
    }
   ],
   "source": [
    "prior = comb_inference.query(['a'], evidence={'s0': 0}).values\n",
    "print(f'Prior belief: {prior}')\n",
    "posterior = comb_inference.query(['a'], evidence={'s0': 0, 's1': 0}).values\n",
    "print(f'Posterior belief: {posterior}')\n",
    "cost = entropy(posterior, prior)\n",
    "print(f'Cost: {cost:.3f} nats')\n",
    "benefit = -1 * (entropy(posterior) + entropy(posterior, likelihood))\n",
    "print(f'Benefit: {benefit:.3f} nats')\n",
    "print(f'Trade-off: {cost - benefit:.3f} nats')"
   ]
  },
  {
   "cell_type": "markdown",
   "metadata": {
    "id": "yhwVIGRhVLLi"
   },
   "source": [
    "In fact, you can't beat the true posterior because it defines the optimal trade-off between costs and benefits as we defined them.\n",
    "\n",
    "What you effectively did when entering possible posterior beliefs, was to minimize an upper bound on the optimal cost-benefit trade-off. This upper bound is also called the **variational free energy** (or, when instead maximizing the lower bound on the benefit-cost trade-off, the ELBO). In other words, you were just minimizing free energy to make a behavioral decision!\n",
    "\n",
    "This is important because we can now use all sorts of algorithms that approximate the true posterior (VI, MCMC) and we get a built-in cost-benefit analysis. No need to ever estimate, monitor, or compare cost and benefit values - it just happens implicitly. Of course, this only works for our particular definition of costs and benefits. So, you couldn't for instance just add another cost term."
   ]
  },
  {
   "cell_type": "markdown",
   "metadata": {
    "id": "IxsJvAK8YCSD"
   },
   "source": [
    "## The informational cost of meta-control"
   ]
  },
  {
   "cell_type": "markdown",
   "metadata": {
    "id": "P0TzwqOJYHeN"
   },
   "source": [
    "That Bayesian inference defines an optimum of an accuracy-complexity trade-off is nothing new at all. This just applies it to a model of automatic and controlled processing. But we can go even further by considering the meta-control model defined in the previous section."
   ]
  },
  {
   "cell_type": "code",
   "execution_count": 19,
   "metadata": {
    "colab": {
     "base_uri": "https://localhost:8080/"
    },
    "executionInfo": {
     "elapsed": 73,
     "status": "ok",
     "timestamp": 1741617477123,
     "user": {
      "displayName": "Maximilian Mittenbühler",
      "userId": "07696460298203762582"
     },
     "user_tz": -60
    },
    "id": "4Djzb2-4Bjxg",
    "outputId": "e9b9631c-1b6a-4030-d801-d3ff34e78bad"
   },
   "outputs": [
    {
     "name": "stdout",
     "output_type": "stream",
     "text": [
      "Prior belief a: [0.745 0.255]\n",
      "Posterior belief a: [0.98230396 0.01769604]\n",
      "Posterior belief c: [0.65301874 0.34698126]\n",
      "Cost: 0.224 nats\n",
      "Benefit: -0.103 nats\n",
      "Trade-off: 0.328 nats\n"
     ]
    }
   ],
   "source": [
    "# Define dependencies (just repeating the code from above here)\n",
    "meta_model = BayesianNetwork([\n",
    "    ('s0', 'a'),\n",
    "    ('s0', 's1'),\n",
    "    ('a', 's1'),\n",
    "    ('c', 'a'),\n",
    "])\n",
    "\n",
    "# Define priors and CPDs\n",
    "cpd_s0 = TabularCPD('s0', 2, [[.5], [.5]])  # defines p(s_0)\n",
    "cpd_c = TabularCPD('c', 2, [[.5], [.5]])  # defines p(c)\n",
    "cpd_a = TabularCPD('a', 2, evidence=['c', 's0'], evidence_card=[2, 2],\n",
    "                   values=[\n",
    "                        [.99, .01, .5, .5],\n",
    "                        [.01, .99, .5, .5]\n",
    "                    ])  # defines p(a | c, s_0)\n",
    "#print(f'\"Automatic processing function\": \\n{cpd_a}')\n",
    "cpd_s1 = TabularCPD('s1', 2, evidence=['a', 's0'], evidence_card=[2, 2],\n",
    "                    values=[\n",
    "                        [.95, .05, .05, .95],\n",
    "                        [.05, .95, .95, .05]\n",
    "                    ])  # defines p(s_1 | a, s_0)\n",
    "#print(f'\"Consequence prediction engine\": \\n{cpd_s1}')\n",
    "\n",
    "# Add CPDs to the model\n",
    "meta_model.add_cpds(cpd_s0, cpd_c, cpd_a, cpd_s1)\n",
    "\n",
    "# Perform inference\n",
    "meta_inference = BeliefPropagation(meta_model)\n",
    "prior = meta_inference.query(['a', 'c'], evidence={'s0': 0}).values\n",
    "print(f'Prior belief a: {prior.sum(axis=1)}')\n",
    "posterior = meta_inference.query(['a', 'c'], evidence={'s0': 0, 's1': 0}).values\n",
    "print(f'Posterior belief a: {posterior.sum(axis=1)}')\n",
    "print(f'Posterior belief c: {posterior.sum(axis=0)}')\n",
    "cost = entropy(posterior.flatten(), prior.flatten())\n",
    "print(f'Cost: {cost:.3f} nats')\n",
    "benefit = -1 * (entropy(posterior.sum(axis=1)) + entropy(posterior.sum(axis=1), likelihood))\n",
    "print(f'Benefit: {benefit:.3f} nats')\n",
    "print(f'Trade-off: {cost - benefit:.3f} nats')"
   ]
  },
  {
   "cell_type": "markdown",
   "metadata": {
    "id": "xOcAa1Y5HrsR"
   },
   "source": [
    "### Exercise 10\n",
    "Change the previous model (without context) such that the prior is the same to the current model (with context). Then observe how the cost and benefit values compare if $s_1 = 0$ (correct) and if $s_1 = 1$ (incorrect). What do you notice in each case? What does this mean in terms of flexibility of the two models?"
   ]
  },
  {
   "cell_type": "markdown",
   "metadata": {
    "id": "glXaUMdiJgrB"
   },
   "source": [
    "The cost term above now contains the change in belief over both actions and contexts. But we can mathematically decompose these two, yielding a separate cost term for controlled processing\\* and meta-control.\n",
    "\n",
    "\\* I'll call it \"control cost\" now but it corresponds to the \"cost\" from earlier sections"
   ]
  },
  {
   "cell_type": "code",
   "execution_count": 20,
   "metadata": {
    "colab": {
     "base_uri": "https://localhost:8080/"
    },
    "executionInfo": {
     "elapsed": 155,
     "status": "ok",
     "timestamp": 1741617477277,
     "user": {
      "displayName": "Maximilian Mittenbühler",
      "userId": "07696460298203762582"
     },
     "user_tz": -60
    },
    "id": "4lAZH0lcOc7H",
    "outputId": "5b90eac3-10e2-4256-b80f-929717bde755"
   },
   "outputs": [
    {
     "name": "stdout",
     "output_type": "stream",
     "text": [
      "Meta-control cost: 0.048 nats\n",
      "Control cost: 0.177 nats\n",
      "Total cost: 0.224 nats\n"
     ]
    }
   ],
   "source": [
    "# Compute meta-control cost\n",
    "prior_c = prior.sum(axis=0)\n",
    "posterior_c = posterior.sum(axis=0)\n",
    "meta_control_cost = entropy(posterior_c, prior_c)\n",
    "print(f'Meta-control cost: {meta_control_cost:.3f} nats')\n",
    "\n",
    "# Compute control cost: expectation of change in belief over actions under posterior over c\n",
    "prior_a__c = []\n",
    "posterior_a__c = []\n",
    "control_cost__c = []\n",
    "for c in range(2):\n",
    "  prior_a__c.append(meta_inference.query(['a'], evidence={'s0': 0, 'c': c}).values)\n",
    "  posterior_a__c.append(meta_inference.query(['a'], evidence={'s0': 0, 's1': 0, 'c': c}).values)\n",
    "  control_cost__c.append(entropy(posterior_a__c[c], prior_a__c[c]))\n",
    "control_cost = posterior_c @ control_cost__c\n",
    "print(f'Control cost: {control_cost:.3f} nats')\n",
    "print(f'Total cost: {control_cost + meta_control_cost:.3f} nats')"
   ]
  },
  {
   "cell_type": "markdown",
   "metadata": {
    "id": "A27p2L61TKPm"
   },
   "source": [
    "### Exercise 11\n",
    "Compare the cost terms of the current model (with context) to the previous model (without context). Think about in which situation the additional cost of meta-control is \"worth it\" (i.e., results in a lower overall cost compared to not using meta-control)."
   ]
  },
  {
   "cell_type": "markdown",
   "metadata": {
    "id": "_E9eOHy9cIu9"
   },
   "source": [
    "# Summary"
   ]
  },
  {
   "cell_type": "markdown",
   "metadata": {
    "id": "Mya23NSIcL5Y"
   },
   "source": [
    "## Key take-aways\n",
    "\n",
    "1.   We have formalized automatic and controlled processing as well as meta-control in a probabilistic framework\n",
    "1.   We have defined the relative costs and benefits of these processes in information-theoretic terms\n",
    "1.   Using Bayesian inference (or approximations thereof), we have implicitly optimized a trade-off between them\n",
    "1.   We have seen that an abstract latent cause can increase the flexibility of a model\n",
    "\n",
    "## Drawbacks\n",
    "\n",
    "1.   Informational cost is not necessarily the same as computational cost, even though they are related\n",
    "1.   The approach only works for this exact optimality criterion, i.e., you couldn't simply change or add another term\n",
    "\n"
   ]
  }
 ],
 "metadata": {
  "colab": {
   "authorship_tag": "ABX9TyOhtBJcoipt4PUZK4gufoRH",
   "provenance": [],
   "toc_visible": true
  },
  "kernelspec": {
   "display_name": "ipython",
   "language": "python",
   "name": "python3"
  },
  "language_info": {
   "codemirror_mode": {
    "name": "ipython",
    "version": 3
   },
   "file_extension": ".py",
   "mimetype": "text/x-python",
   "name": "python",
   "nbconvert_exporter": "python",
   "pygments_lexer": "ipython3",
   "version": "3.12.9"
  }
 },
 "nbformat": 4,
 "nbformat_minor": 0
}
